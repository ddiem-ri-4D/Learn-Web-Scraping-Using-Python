{
 "cells": [
  {
   "cell_type": "markdown",
   "id": "42482c6f-9cfb-4f58-8c9e-146890c31b66",
   "metadata": {},
   "source": [
    "# Analyze JSON\n",
    "\n",
    "## Load JSON string and extract data"
   ]
  },
  {
   "cell_type": "markdown",
   "id": "48a63409-84d6-480f-a459-86dea42394e4",
   "metadata": {},
   "source": [
    "Exercise Page=[https://scrapingclub.com/exercise/detail_json/](https://scrapingclub.com/exercise/detail_json/)"
   ]
  },
  {
   "cell_type": "code",
   "execution_count": 1,
   "id": "02e67a10-5506-462e-bcad-551544c85a74",
   "metadata": {},
   "outputs": [],
   "source": [
    "import requests\n",
    "import re\n",
    "import json\n",
    "from bs4 import BeautifulSoup"
   ]
  },
  {
   "cell_type": "code",
   "execution_count": 2,
   "id": "17a9aead-4acb-41bb-aedf-1768267e976f",
   "metadata": {},
   "outputs": [],
   "source": [
    "url = \"https://scrapingclub.com/exercise/detail_json/\""
   ]
  },
  {
   "cell_type": "code",
   "execution_count": 3,
   "id": "3fb82802-aa46-4bed-83a1-e866e921fdb1",
   "metadata": {},
   "outputs": [],
   "source": [
    "r = requests.get(url)\n",
    "data = r.text"
   ]
  },
  {
   "cell_type": "code",
   "execution_count": 4,
   "id": "8a971990-28ee-4447-945c-03e71c2b4179",
   "metadata": {},
   "outputs": [],
   "source": [
    "soup = BeautifulSoup(data, \"lxml\")"
   ]
  },
  {
   "cell_type": "code",
   "execution_count": 5,
   "id": "e4af909c-49a4-4e2f-b674-14585b788fc6",
   "metadata": {},
   "outputs": [],
   "source": [
    "# get to what we want\n",
    "script = soup.find(\"script\", string = re.compile('var obj = '))\n",
    "json_text = re.search(r'^\\s*var obj\\s*=\\s*({.*?})\\s*;\\s*$', script.string, flags = re.DOTALL | re.MULTILINE).group(1)"
   ]
  },
  {
   "cell_type": "code",
   "execution_count": 6,
   "id": "6869d894-7544-42e5-9e64-49d40cc5f865",
   "metadata": {},
   "outputs": [],
   "source": [
    "# validating json\n",
    "json_text = json_text.replace(\"\\\"/static/img/\\\" + \",\"\")\n",
    "json_text = json_text.replace(\"\\\"96230-C\\\" + \",\"\")"
   ]
  },
  {
   "cell_type": "code",
   "execution_count": 7,
   "id": "8864453c-f7fc-4fb6-bf5b-942551924c89",
   "metadata": {},
   "outputs": [
    {
     "name": "stdout",
     "output_type": "stream",
     "text": [
      "Item Name: Short Sweatshirt \n",
      "Item Price: $24.99\n",
      "Item Description: Short sweatshirt with long sleeves and ribbing at neckline, cuffs, and hem. 57% cotton, 43% polyester. Machine wash cold.\n"
     ]
    }
   ],
   "source": [
    "parsed = json.loads(json_text)\n",
    "print(\"Item Name: {} \\nItem Price: {}\\nItem Description: {}\".format(parsed['title'], parsed['price'], parsed['description']))"
   ]
  },
  {
   "cell_type": "code",
   "execution_count": null,
   "id": "6791788f-9609-4b5f-b95d-7cf7d048b001",
   "metadata": {},
   "outputs": [],
   "source": []
  }
 ],
 "metadata": {
  "kernelspec": {
   "display_name": "Python 3",
   "language": "python",
   "name": "python3"
  },
  "language_info": {
   "codemirror_mode": {
    "name": "ipython",
    "version": 3
   },
   "file_extension": ".py",
   "mimetype": "text/x-python",
   "name": "python",
   "nbconvert_exporter": "python",
   "pygments_lexer": "ipython3",
   "version": "3.6.8"
  }
 },
 "nbformat": 4,
 "nbformat_minor": 5
}

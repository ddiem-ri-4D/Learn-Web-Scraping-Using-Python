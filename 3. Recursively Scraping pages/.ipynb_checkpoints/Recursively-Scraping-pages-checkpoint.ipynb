{
 "cells": [
  {
   "cell_type": "markdown",
   "id": "39cb2295-1fb7-4262-8076-96a6b25b9091",
   "metadata": {},
   "source": [
    "# Recursively Scraping pages\n",
    "\n",
    "## Not only crawl products but also handle pagination"
   ]
  },
  {
   "cell_type": "markdown",
   "id": "3ab1a326-f9d5-40a0-bce2-8e2332095ee6",
   "metadata": {},
   "source": [
    "Exercise Page=[https://scrapingclub.com/exercise/detail_json/](https://scrapingclub.com/exercise/detail_json/)"
   ]
  },
  {
   "cell_type": "markdown",
   "id": "afa9e9e3-2d73-409f-a064-380cd6eca60b",
   "metadata": {},
   "source": [
    "Try to extract all product detail infomation such as title, description, you should also handle pagination here so in the end you can get about 100+ records.\n",
    "\n",
    "Tips:\n",
    "\n",
    "You can read this article if you need help. [Scrapy Tutorial: How To Build A Real Spider](https://scrapingclub.com/blog/scrapy-tutorial-10-how-build-real-spider/)"
   ]
  },
  {
   "cell_type": "code",
   "execution_count": 1,
   "id": "0639ac17-f034-4f85-852a-45dd7d8cc0c3",
   "metadata": {},
   "outputs": [],
   "source": [
    "import requests\n",
    "from bs4 import BeautifulSoup "
   ]
  },
  {
   "cell_type": "code",
   "execution_count": 2,
   "id": "48879516-1f5c-4ba5-948d-acb10d3deb39",
   "metadata": {},
   "outputs": [],
   "source": [
    "base_url = \"https://scrapingclub.com/exercise/list_basic\""
   ]
  },
  {
   "cell_type": "code",
   "execution_count": 3,
   "id": "bbe98f79-39ce-45f5-9344-355a5fecb2d5",
   "metadata": {},
   "outputs": [],
   "source": [
    "def singlePage(url):\n",
    "    r = requests.get(base_url)\n",
    "    data = r.text\n",
    "    soup = BeautifulSoup(data, 'lxml')\n",
    "    items = soup.find_all(\"div\", class_ = \"col-lg-4 col-md-6 mb-4\")\n",
    "    for i in items:\n",
    "        i = i.find(\"div\", class_ = \"card-body\")\n",
    "        print(\"Item Name: {}Item Price: {}\".format(i.h4.text.lstrip('\\n'), i.h5.text))"
   ]
  },
  {
   "cell_type": "code",
   "execution_count": 4,
   "id": "5830b6d7-e468-4b42-84f5-2b253c7b0291",
   "metadata": {},
   "outputs": [],
   "source": [
    "# get links to all product pages\n",
    "r = requests.get(base_url)\n",
    "soup = BeautifulSoup(r.text, 'lxml')\n",
    "pages = soup.find_all(\"a\", class_ = \"page-link\")\n",
    "pagelist = []\n",
    "for p in pages:\n",
    "    isvalid = p.text if p.text.isdigit() else None\n",
    "    if isvalid:\n",
    "        pagelist.append(p.get('href'))\n",
    "#print(pagelist)"
   ]
  },
  {
   "cell_type": "code",
   "execution_count": 5,
   "id": "22fc8316-5b06-4ec1-8323-a9b1d28db5f3",
   "metadata": {},
   "outputs": [
    {
     "name": "stdout",
     "output_type": "stream",
     "text": [
      "https://scrapingclub.com/exercise/list_basic?page=2\n",
      "Item Name: Short Dress\n",
      "Item Price: $24.99\n",
      "Item Name: Patterned Slacks\n",
      "Item Price: $29.99\n",
      "Item Name: Short Chiffon Dress\n",
      "Item Price: $49.99\n",
      "Item Name: Off-the-shoulder Dress\n",
      "Item Price: $59.99\n",
      "Item Name: V-neck Top\n",
      "Item Price: $24.99\n",
      "Item Name: Short Chiffon Dress\n",
      "Item Price: $49.99\n",
      "Item Name: V-neck Top\n",
      "Item Price: $24.99\n",
      "Item Name: V-neck Top\n",
      "Item Price: $24.99\n",
      "Item Name: Short Lace Dress\n",
      "Item Price: $59.99\n",
      "https://scrapingclub.com/exercise/list_basic?page=3\n",
      "Item Name: Short Dress\n",
      "Item Price: $24.99\n",
      "Item Name: Patterned Slacks\n",
      "Item Price: $29.99\n",
      "Item Name: Short Chiffon Dress\n",
      "Item Price: $49.99\n",
      "Item Name: Off-the-shoulder Dress\n",
      "Item Price: $59.99\n",
      "Item Name: V-neck Top\n",
      "Item Price: $24.99\n",
      "Item Name: Short Chiffon Dress\n",
      "Item Price: $49.99\n",
      "Item Name: V-neck Top\n",
      "Item Price: $24.99\n",
      "Item Name: V-neck Top\n",
      "Item Price: $24.99\n",
      "Item Name: Short Lace Dress\n",
      "Item Price: $59.99\n",
      "https://scrapingclub.com/exercise/list_basic?page=4\n",
      "Item Name: Short Dress\n",
      "Item Price: $24.99\n",
      "Item Name: Patterned Slacks\n",
      "Item Price: $29.99\n",
      "Item Name: Short Chiffon Dress\n",
      "Item Price: $49.99\n",
      "Item Name: Off-the-shoulder Dress\n",
      "Item Price: $59.99\n",
      "Item Name: V-neck Top\n",
      "Item Price: $24.99\n",
      "Item Name: Short Chiffon Dress\n",
      "Item Price: $49.99\n",
      "Item Name: V-neck Top\n",
      "Item Price: $24.99\n",
      "Item Name: V-neck Top\n",
      "Item Price: $24.99\n",
      "Item Name: Short Lace Dress\n",
      "Item Price: $59.99\n",
      "https://scrapingclub.com/exercise/list_basic?page=5\n",
      "Item Name: Short Dress\n",
      "Item Price: $24.99\n",
      "Item Name: Patterned Slacks\n",
      "Item Price: $29.99\n",
      "Item Name: Short Chiffon Dress\n",
      "Item Price: $49.99\n",
      "Item Name: Off-the-shoulder Dress\n",
      "Item Price: $59.99\n",
      "Item Name: V-neck Top\n",
      "Item Price: $24.99\n",
      "Item Name: Short Chiffon Dress\n",
      "Item Price: $49.99\n",
      "Item Name: V-neck Top\n",
      "Item Price: $24.99\n",
      "Item Name: V-neck Top\n",
      "Item Price: $24.99\n",
      "Item Name: Short Lace Dress\n",
      "Item Price: $59.99\n",
      "https://scrapingclub.com/exercise/list_basic?page=6\n",
      "Item Name: Short Dress\n",
      "Item Price: $24.99\n",
      "Item Name: Patterned Slacks\n",
      "Item Price: $29.99\n",
      "Item Name: Short Chiffon Dress\n",
      "Item Price: $49.99\n",
      "Item Name: Off-the-shoulder Dress\n",
      "Item Price: $59.99\n",
      "Item Name: V-neck Top\n",
      "Item Price: $24.99\n",
      "Item Name: Short Chiffon Dress\n",
      "Item Price: $49.99\n",
      "Item Name: V-neck Top\n",
      "Item Price: $24.99\n",
      "Item Name: V-neck Top\n",
      "Item Price: $24.99\n",
      "Item Name: Short Lace Dress\n",
      "Item Price: $59.99\n",
      "https://scrapingclub.com/exercise/list_basic?page=7\n",
      "Item Name: Short Dress\n",
      "Item Price: $24.99\n",
      "Item Name: Patterned Slacks\n",
      "Item Price: $29.99\n",
      "Item Name: Short Chiffon Dress\n",
      "Item Price: $49.99\n",
      "Item Name: Off-the-shoulder Dress\n",
      "Item Price: $59.99\n",
      "Item Name: V-neck Top\n",
      "Item Price: $24.99\n",
      "Item Name: Short Chiffon Dress\n",
      "Item Price: $49.99\n",
      "Item Name: V-neck Top\n",
      "Item Price: $24.99\n",
      "Item Name: V-neck Top\n",
      "Item Price: $24.99\n",
      "Item Name: Short Lace Dress\n",
      "Item Price: $59.99\n"
     ]
    }
   ],
   "source": [
    "# loop through all pages\n",
    "for i in pagelist:\n",
    "    url = base_url + i\n",
    "    print(url)\n",
    "    singlePage(url)"
   ]
  },
  {
   "cell_type": "code",
   "execution_count": null,
   "id": "22ae7a23-c913-4a67-a45f-76bab5103aeb",
   "metadata": {},
   "outputs": [],
   "source": []
  }
 ],
 "metadata": {
  "kernelspec": {
   "display_name": "Python 3",
   "language": "python",
   "name": "python3"
  },
  "language_info": {
   "codemirror_mode": {
    "name": "ipython",
    "version": 3
   },
   "file_extension": ".py",
   "mimetype": "text/x-python",
   "name": "python",
   "nbconvert_exporter": "python",
   "pygments_lexer": "ipython3",
   "version": "3.6.8"
  }
 },
 "nbformat": 4,
 "nbformat_minor": 5
}

{
 "cells": [
  {
   "cell_type": "markdown",
   "id": "26dd39e6-941a-4e07-868a-57fd69d2fef4",
   "metadata": {},
   "source": [
    "# Mimicking Ajax requests\n",
    "\n",
    "## Inspect Ajax requests and mimic them"
   ]
  },
  {
   "cell_type": "markdown",
   "id": "ba6a3c56-588d-49ea-827d-4e6464392857",
   "metadata": {},
   "source": [
    "Exercise Page=[https://scrapingclub.com/exercise/ajaxdetail/](https://scrapingclub.com/exercise/ajaxdetail/)"
   ]
  },
  {
   "cell_type": "markdown",
   "id": "d181fb6e-49f3-48c2-83b7-57ffd7ff5987",
   "metadata": {},
   "source": [
    "Ajax is so popular nowadays so you should learn how to mimic it in your web crawler.\n",
    "\n",
    "In this exercise, try to extract the product detail such as title, desc, and price.\n",
    "\n",
    "You should learn how to inspect network requests in the browser and filter them, after you figure out the URL of the ajax request, implement it in your spider."
   ]
  },
  {
   "cell_type": "code",
   "execution_count": 1,
   "id": "7798a701-5179-4aa0-a143-9f604ad73f98",
   "metadata": {},
   "outputs": [],
   "source": [
    "import requests\n",
    "import json"
   ]
  },
  {
   "cell_type": "code",
   "execution_count": 2,
   "id": "f761092f-9050-48fc-a3f5-be72e42e496f",
   "metadata": {},
   "outputs": [],
   "source": [
    "#  ajax link found by inspecting the network XHR Request\n",
    "ajax_url = \"https://scrapingclub.com/exercise/ajaxdetail/\""
   ]
  },
  {
   "cell_type": "code",
   "execution_count": 3,
   "id": "69233539-74f0-4d23-9157-ac64eed9ff89",
   "metadata": {},
   "outputs": [],
   "source": [
    "r = requests.get(ajax_url)\n",
    "item = json.loads(r.text)"
   ]
  },
  {
   "cell_type": "code",
   "execution_count": 4,
   "id": "977d05ea-0927-4c06-a268-ec2ba91a12bf",
   "metadata": {},
   "outputs": [
    {
     "name": "stdout",
     "output_type": "stream",
     "text": [
      "Item Name: Jersey Dress\n",
      "Item Price: $19.99\n",
      "Item Description: Fitted dress in jersey with long, straight sleeves. Unlined. 72% polyester, 23% rayon, 5% spandex. Machine wash...\n"
     ]
    }
   ],
   "source": [
    "print(\"Item Name: {}\\nItem Price: {}\\nItem Description: {}\".format(item['title'],item['price'],item['description']))"
   ]
  },
  {
   "cell_type": "code",
   "execution_count": null,
   "id": "a131b171-c6b0-4fe5-9030-440b274ae0f3",
   "metadata": {},
   "outputs": [],
   "source": []
  }
 ],
 "metadata": {
  "kernelspec": {
   "display_name": "Python 3",
   "language": "python",
   "name": "python3"
  },
  "language_info": {
   "codemirror_mode": {
    "name": "ipython",
    "version": 3
   },
   "file_extension": ".py",
   "mimetype": "text/x-python",
   "name": "python",
   "nbconvert_exporter": "python",
   "pygments_lexer": "ipython3",
   "version": "3.6.8"
  }
 },
 "nbformat": 4,
 "nbformat_minor": 5
}

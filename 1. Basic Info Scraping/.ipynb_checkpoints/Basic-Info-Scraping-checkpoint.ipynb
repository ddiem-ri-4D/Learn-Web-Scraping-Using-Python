{
 "cells": [
  {
   "cell_type": "markdown",
   "id": "07ad3d79-d38a-430e-a4d5-d8f11e9174f9",
   "metadata": {},
   "source": [
    "# Basic Info Scraping\n",
    "\n",
    "## Web scraping using XPath or CSS expression"
   ]
  },
  {
   "cell_type": "markdown",
   "id": "cbd110a6-a03e-4d25-b59a-ccb3b5628f57",
   "metadata": {},
   "source": [
    "Exercise Page=[https://scrapingclub.com/exercise/detail_basic/](https://scrapingclub.com/exercise/detail_basic/)"
   ]
  },
  {
   "cell_type": "code",
   "execution_count": 1,
   "id": "af41249f-05c9-4faf-9375-52c39f681f0b",
   "metadata": {},
   "outputs": [],
   "source": [
    "import requests\n",
    "from bs4 import BeautifulSoup"
   ]
  },
  {
   "cell_type": "code",
   "execution_count": 2,
   "id": "52145c94-20fc-4341-b847-a09bf120ee83",
   "metadata": {},
   "outputs": [],
   "source": [
    "url = \"https://scrapingclub.com/exercise/detail_basic/\""
   ]
  },
  {
   "cell_type": "code",
   "execution_count": 3,
   "id": "07f5e6ce-241b-41d6-b564-226038d8d101",
   "metadata": {},
   "outputs": [],
   "source": [
    "r = requests.get(url)\n",
    "soup = BeautifulSoup(r.text, 'lxml')"
   ]
  },
  {
   "cell_type": "code",
   "execution_count": 4,
   "id": "3661bebc-bb22-4893-a7eb-ffca526a3f19",
   "metadata": {},
   "outputs": [],
   "source": [
    "itemInfo = soup.find(\"div\", class_ = \"card-body\")\n",
    "itemName = itemInfo.h3.text\n",
    "itemPrice = itemInfo.h4.text\n",
    "itemDesc = itemInfo.p.text"
   ]
  },
  {
   "cell_type": "code",
   "execution_count": 5,
   "id": "5a714eb3-4f25-4e23-8553-6b824cef13e3",
   "metadata": {},
   "outputs": [
    {
     "name": "stdout",
     "output_type": "stream",
     "text": [
      "Item Name: Long-sleeved Jersey Top \n",
      "Item Price: $12.99\n",
      "Item Description: CONSCIOUS. Fitted, long-sleeved top in stretch jersey made from organic cotton with a round neckline. 92% cotton, 3% spandex, 3% rayon, 2% polyester.\n"
     ]
    }
   ],
   "source": [
    "print(\"Item Name: {} \\nItem Price: {}\\nItem Description: {}\".format(itemName, itemPrice, itemDesc))"
   ]
  },
  {
   "cell_type": "code",
   "execution_count": null,
   "id": "5e7f5a0c-3a6a-4ddf-8734-d0c9128ed3cd",
   "metadata": {},
   "outputs": [],
   "source": []
  }
 ],
 "metadata": {
  "kernelspec": {
   "display_name": "Python 3",
   "language": "python",
   "name": "python3"
  },
  "language_info": {
   "codemirror_mode": {
    "name": "ipython",
    "version": 3
   },
   "file_extension": ".py",
   "mimetype": "text/x-python",
   "name": "python",
   "nbconvert_exporter": "python",
   "pygments_lexer": "ipython3",
   "version": "3.6.8"
  }
 },
 "nbformat": 4,
 "nbformat_minor": 5
}
